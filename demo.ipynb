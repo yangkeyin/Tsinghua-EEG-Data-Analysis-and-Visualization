{
 "cells": [
  {
   "cell_type": "code",
   "execution_count": 4,
   "id": "d070af10",
   "metadata": {},
   "outputs": [
    {
     "name": "stdout",
     "output_type": "stream",
     "text": [
      "d:\\yangkeyin\\datasets\\251010清华数据分析\n",
      "当前目录: d:\\yangkeyin\\datasets\\251010清华数据分析\n",
      "子目录: d:\\yangkeyin\\datasets\\251010清华数据分析\\acute\n",
      "子目录: d:\\yangkeyin\\datasets\\251010清华数据分析\\utils\n",
      "子目录: d:\\yangkeyin\\datasets\\251010清华数据分析\\__pycache__\n",
      "文件: d:\\yangkeyin\\datasets\\251010清华数据分析\\config.py\n",
      "文件: d:\\yangkeyin\\datasets\\251010清华数据分析\\demo.ipynb\n",
      "文件: d:\\yangkeyin\\datasets\\251010清华数据分析\\process_rhd_files.py\n",
      "文件: d:\\yangkeyin\\datasets\\251010清华数据分析\\process_rhd_to_fif.py\n",
      "文件: d:\\yangkeyin\\datasets\\251010清华数据分析\\simple_rhd_reader.py\n",
      "当前目录: d:\\yangkeyin\\datasets\\251010清华数据分析\\acute\n",
      "子目录: d:\\yangkeyin\\datasets\\251010清华数据分析\\acute\\20250612\n",
      "子目录: d:\\yangkeyin\\datasets\\251010清华数据分析\\acute\\20250701\n",
      "子目录: d:\\yangkeyin\\datasets\\251010清华数据分析\\acute\\20250702\n",
      "当前目录: d:\\yangkeyin\\datasets\\251010清华数据分析\\acute\\20250612\n",
      "子目录: d:\\yangkeyin\\datasets\\251010清华数据分析\\acute\\20250612\\beard_fast\n",
      "子目录: d:\\yangkeyin\\datasets\\251010清华数据分析\\acute\\20250612\\beard_slow\n",
      "子目录: d:\\yangkeyin\\datasets\\251010清华数据分析\\acute\\20250612\\visual\n",
      "子目录: d:\\yangkeyin\\datasets\\251010清华数据分析\\acute\\20250612\\照片和视频\n",
      "当前目录: d:\\yangkeyin\\datasets\\251010清华数据分析\\acute\\20250612\\beard_fast\n",
      "子目录: d:\\yangkeyin\\datasets\\251010清华数据分析\\acute\\20250612\\beard_fast\\bear-fast_250613_173410\n",
      "当前目录: d:\\yangkeyin\\datasets\\251010清华数据分析\\acute\\20250612\\beard_fast\\bear-fast_250613_173410\n",
      "文件: d:\\yangkeyin\\datasets\\251010清华数据分析\\acute\\20250612\\beard_fast\\bear-fast_250613_173410\\bear-fast_250613_173410.rhd\n",
      "文件: d:\\yangkeyin\\datasets\\251010清华数据分析\\acute\\20250612\\beard_fast\\bear-fast_250613_173410\\bear-fast_250613_173510.rhd\n",
      "文件: d:\\yangkeyin\\datasets\\251010清华数据分析\\acute\\20250612\\beard_fast\\bear-fast_250613_173410\\bear-fast_250613_173610.rhd\n",
      "文件: d:\\yangkeyin\\datasets\\251010清华数据分析\\acute\\20250612\\beard_fast\\bear-fast_250613_173410\\bear-fast_250613_173710.rhd\n",
      "文件: d:\\yangkeyin\\datasets\\251010清华数据分析\\acute\\20250612\\beard_fast\\bear-fast_250613_173410\\bear-fast_250613_173810.rhd\n",
      "文件: d:\\yangkeyin\\datasets\\251010清华数据分析\\acute\\20250612\\beard_fast\\bear-fast_250613_173410\\bear-fast_250613_173910.rhd\n",
      "文件: d:\\yangkeyin\\datasets\\251010清华数据分析\\acute\\20250612\\beard_fast\\bear-fast_250613_173410\\bear-fast_250613_174010.rhd\n",
      "文件: d:\\yangkeyin\\datasets\\251010清华数据分析\\acute\\20250612\\beard_fast\\bear-fast_250613_173410\\bear-fast_250613_174110.rhd\n",
      "文件: d:\\yangkeyin\\datasets\\251010清华数据分析\\acute\\20250612\\beard_fast\\bear-fast_250613_173410\\bear-fast_250613_174210.rhd\n"
     ]
    },
    {
     "ename": "KeyboardInterrupt",
     "evalue": "",
     "output_type": "error",
     "traceback": [
      "\u001b[1;31m---------------------------------------------------------------------------\u001b[0m",
      "\u001b[1;31mKeyboardInterrupt\u001b[0m                         Traceback (most recent call last)",
      "Cell \u001b[1;32mIn[4], line 14\u001b[0m\n\u001b[0;32m     11\u001b[0m     \u001b[38;5;28mprint\u001b[39m(\u001b[38;5;124mf\u001b[39m\u001b[38;5;124m\"\u001b[39m\u001b[38;5;124m子目录: \u001b[39m\u001b[38;5;132;01m{\u001b[39;00mos\u001b[38;5;241m.\u001b[39mpath\u001b[38;5;241m.\u001b[39mjoin(root,\u001b[38;5;250m \u001b[39m\u001b[38;5;28mdir\u001b[39m)\u001b[38;5;132;01m}\u001b[39;00m\u001b[38;5;124m\"\u001b[39m)\n\u001b[0;32m     13\u001b[0m \u001b[38;5;66;03m# files 是当前目录下的所有文件列表\u001b[39;00m\n\u001b[1;32m---> 14\u001b[0m \u001b[38;5;28;01mfor\u001b[39;00m file \u001b[38;5;129;01min\u001b[39;00m files:\n\u001b[0;32m     15\u001b[0m     \u001b[38;5;28mprint\u001b[39m(\u001b[38;5;124mf\u001b[39m\u001b[38;5;124m\"\u001b[39m\u001b[38;5;124m文件: \u001b[39m\u001b[38;5;132;01m{\u001b[39;00mos\u001b[38;5;241m.\u001b[39mpath\u001b[38;5;241m.\u001b[39mjoin(root,\u001b[38;5;250m \u001b[39mfile)\u001b[38;5;132;01m}\u001b[39;00m\u001b[38;5;124m\"\u001b[39m)\n",
      "Cell \u001b[1;32mIn[4], line 14\u001b[0m\n\u001b[0;32m     11\u001b[0m     \u001b[38;5;28mprint\u001b[39m(\u001b[38;5;124mf\u001b[39m\u001b[38;5;124m\"\u001b[39m\u001b[38;5;124m子目录: \u001b[39m\u001b[38;5;132;01m{\u001b[39;00mos\u001b[38;5;241m.\u001b[39mpath\u001b[38;5;241m.\u001b[39mjoin(root,\u001b[38;5;250m \u001b[39m\u001b[38;5;28mdir\u001b[39m)\u001b[38;5;132;01m}\u001b[39;00m\u001b[38;5;124m\"\u001b[39m)\n\u001b[0;32m     13\u001b[0m \u001b[38;5;66;03m# files 是当前目录下的所有文件列表\u001b[39;00m\n\u001b[1;32m---> 14\u001b[0m \u001b[38;5;28;01mfor\u001b[39;00m file \u001b[38;5;129;01min\u001b[39;00m files:\n\u001b[0;32m     15\u001b[0m     \u001b[38;5;28mprint\u001b[39m(\u001b[38;5;124mf\u001b[39m\u001b[38;5;124m\"\u001b[39m\u001b[38;5;124m文件: \u001b[39m\u001b[38;5;132;01m{\u001b[39;00mos\u001b[38;5;241m.\u001b[39mpath\u001b[38;5;241m.\u001b[39mjoin(root,\u001b[38;5;250m \u001b[39mfile)\u001b[38;5;132;01m}\u001b[39;00m\u001b[38;5;124m\"\u001b[39m)\n",
      "File \u001b[1;32m_pydevd_bundle\\\\pydevd_cython.pyx:1697\u001b[0m, in \u001b[0;36m_pydevd_bundle.pydevd_cython.SafeCallWrapper.__call__\u001b[1;34m()\u001b[0m\n",
      "File \u001b[1;32m_pydevd_bundle\\\\pydevd_cython.pyx:634\u001b[0m, in \u001b[0;36m_pydevd_bundle.pydevd_cython.PyDBFrame.trace_dispatch\u001b[1;34m()\u001b[0m\n",
      "File \u001b[1;32m_pydevd_bundle\\\\pydevd_cython.pyx:1368\u001b[0m, in \u001b[0;36m_pydevd_bundle.pydevd_cython.PyDBFrame.trace_dispatch\u001b[1;34m()\u001b[0m\n",
      "File \u001b[1;32m_pydevd_bundle\\\\pydevd_cython.pyx:1311\u001b[0m, in \u001b[0;36m_pydevd_bundle.pydevd_cython.PyDBFrame.trace_dispatch\u001b[1;34m()\u001b[0m\n",
      "File \u001b[1;32m_pydevd_bundle\\\\pydevd_cython.pyx:494\u001b[0m, in \u001b[0;36m_pydevd_bundle.pydevd_cython.PyDBFrame.do_wait_suspend\u001b[1;34m()\u001b[0m\n",
      "File \u001b[1;32md:\\appinstall\\anaconda\\envs\\neurosort\\lib\\site-packages\\debugpy\\_vendored\\pydevd\\pydevd.py:2188\u001b[0m, in \u001b[0;36mPyDB.do_wait_suspend\u001b[1;34m(self, thread, frame, event, arg, exception_type)\u001b[0m\n\u001b[0;32m   2185\u001b[0m             from_this_thread\u001b[38;5;241m.\u001b[39mappend(frame_custom_thread_id)\n\u001b[0;32m   2187\u001b[0m     \u001b[38;5;28;01mwith\u001b[39;00m \u001b[38;5;28mself\u001b[39m\u001b[38;5;241m.\u001b[39m_threads_suspended_single_notification\u001b[38;5;241m.\u001b[39mnotify_thread_suspended(thread_id, thread, stop_reason):\n\u001b[1;32m-> 2188\u001b[0m         keep_suspended \u001b[38;5;241m=\u001b[39m \u001b[38;5;28;43mself\u001b[39;49m\u001b[38;5;241;43m.\u001b[39;49m\u001b[43m_do_wait_suspend\u001b[49m\u001b[43m(\u001b[49m\u001b[43mthread\u001b[49m\u001b[43m,\u001b[49m\u001b[43m \u001b[49m\u001b[43mframe\u001b[49m\u001b[43m,\u001b[49m\u001b[43m \u001b[49m\u001b[43mevent\u001b[49m\u001b[43m,\u001b[49m\u001b[43m \u001b[49m\u001b[43marg\u001b[49m\u001b[43m,\u001b[49m\u001b[43m \u001b[49m\u001b[43mtrace_suspend_type\u001b[49m\u001b[43m,\u001b[49m\u001b[43m \u001b[49m\u001b[43mfrom_this_thread\u001b[49m\u001b[43m,\u001b[49m\u001b[43m \u001b[49m\u001b[43mframes_tracker\u001b[49m\u001b[43m)\u001b[49m\n\u001b[0;32m   2190\u001b[0m frames_list \u001b[38;5;241m=\u001b[39m \u001b[38;5;28;01mNone\u001b[39;00m\n\u001b[0;32m   2192\u001b[0m \u001b[38;5;28;01mif\u001b[39;00m keep_suspended:\n\u001b[0;32m   2193\u001b[0m     \u001b[38;5;66;03m# This means that we should pause again after a set next statement.\u001b[39;00m\n",
      "File \u001b[1;32md:\\appinstall\\anaconda\\envs\\neurosort\\lib\\site-packages\\debugpy\\_vendored\\pydevd\\pydevd.py:2257\u001b[0m, in \u001b[0;36mPyDB._do_wait_suspend\u001b[1;34m(self, thread, frame, event, arg, trace_suspend_type, from_this_thread, frames_tracker)\u001b[0m\n\u001b[0;32m   2254\u001b[0m                 queue\u001b[38;5;241m.\u001b[39mput(internal_cmd)\n\u001b[0;32m   2255\u001b[0m                 wait_timeout \u001b[38;5;241m=\u001b[39m TIMEOUT_FAST\n\u001b[1;32m-> 2257\u001b[0m         \u001b[43mnotify_event\u001b[49m\u001b[38;5;241;43m.\u001b[39;49m\u001b[43mwait\u001b[49m\u001b[43m(\u001b[49m\u001b[43mwait_timeout\u001b[49m\u001b[43m)\u001b[49m\n\u001b[0;32m   2258\u001b[0m         notify_event\u001b[38;5;241m.\u001b[39mclear()\n\u001b[0;32m   2260\u001b[0m \u001b[38;5;28;01mfinally\u001b[39;00m:\n",
      "File \u001b[1;32md:\\appinstall\\anaconda\\envs\\neurosort\\lib\\threading.py:581\u001b[0m, in \u001b[0;36mEvent.wait\u001b[1;34m(self, timeout)\u001b[0m\n\u001b[0;32m    579\u001b[0m signaled \u001b[38;5;241m=\u001b[39m \u001b[38;5;28mself\u001b[39m\u001b[38;5;241m.\u001b[39m_flag\n\u001b[0;32m    580\u001b[0m \u001b[38;5;28;01mif\u001b[39;00m \u001b[38;5;129;01mnot\u001b[39;00m signaled:\n\u001b[1;32m--> 581\u001b[0m     signaled \u001b[38;5;241m=\u001b[39m \u001b[38;5;28;43mself\u001b[39;49m\u001b[38;5;241;43m.\u001b[39;49m\u001b[43m_cond\u001b[49m\u001b[38;5;241;43m.\u001b[39;49m\u001b[43mwait\u001b[49m\u001b[43m(\u001b[49m\u001b[43mtimeout\u001b[49m\u001b[43m)\u001b[49m\n\u001b[0;32m    582\u001b[0m \u001b[38;5;28;01mreturn\u001b[39;00m signaled\n",
      "File \u001b[1;32md:\\appinstall\\anaconda\\envs\\neurosort\\lib\\threading.py:316\u001b[0m, in \u001b[0;36mCondition.wait\u001b[1;34m(self, timeout)\u001b[0m\n\u001b[0;32m    314\u001b[0m \u001b[38;5;28;01melse\u001b[39;00m:\n\u001b[0;32m    315\u001b[0m     \u001b[38;5;28;01mif\u001b[39;00m timeout \u001b[38;5;241m>\u001b[39m \u001b[38;5;241m0\u001b[39m:\n\u001b[1;32m--> 316\u001b[0m         gotit \u001b[38;5;241m=\u001b[39m \u001b[43mwaiter\u001b[49m\u001b[38;5;241;43m.\u001b[39;49m\u001b[43macquire\u001b[49m\u001b[43m(\u001b[49m\u001b[38;5;28;43;01mTrue\u001b[39;49;00m\u001b[43m,\u001b[49m\u001b[43m \u001b[49m\u001b[43mtimeout\u001b[49m\u001b[43m)\u001b[49m\n\u001b[0;32m    317\u001b[0m     \u001b[38;5;28;01melse\u001b[39;00m:\n\u001b[0;32m    318\u001b[0m         gotit \u001b[38;5;241m=\u001b[39m waiter\u001b[38;5;241m.\u001b[39macquire(\u001b[38;5;28;01mFalse\u001b[39;00m)\n",
      "\u001b[1;31mKeyboardInterrupt\u001b[0m: "
     ]
    }
   ],
   "source": [
    "import os\n",
    "import config  # 假设config模块已正确定义和导入\n",
    "print(os.getcwd())\n",
    "\n",
    "for root, dirs, files in os.walk(os.getcwd()):\n",
    "    # root 是当前目录的路径\n",
    "    print(f\"当前目录: {root}\")\n",
    "    \n",
    "    # dirs 是当前目录下的所有子目录列表\n",
    "    for dir in dirs:\n",
    "        print(f\"子目录: {os.path.join(root, dir)}\")\n",
    "    \n",
    "    # files 是当前目录下的所有文件列表\n",
    "    for file in files:\n",
    "        print(f\"文件: {os.path.join(root, file)}\")"
   ]
  },
  {
   "cell_type": "code",
   "execution_count": 13,
   "id": "402de97e",
   "metadata": {},
   "outputs": [
    {
     "name": "stdout",
     "output_type": "stream",
     "text": [
      "[[1 2 3 4 5 6]\n",
      " [1 2 3 4 5 6]]\n"
     ]
    }
   ],
   "source": [
    "import numpy as np\n",
    "\n",
    "# 假设已经有result和next_result这两个字典，并且它们的结构正确\n",
    "# 这里为了示例，简单创建两个包含amplifier_data的字典\n",
    "result = {'amplifier_data': np.array([[1, 2, 3],[1,2,3]])}\n",
    "next_result = {'amplifier_data': np.array([[4, 5, 6],[4,5,6]])}\n",
    "\n",
    "result['amplifier_data'] = np.hstack((\n",
    "    result['amplifier_data'], \n",
    "    next_result['amplifier_data'],  \n",
    "))\n",
    "print(result['amplifier_data'])"
   ]
  },
  {
   "cell_type": "code",
   "execution_count": 15,
   "id": "11ad04bf",
   "metadata": {},
   "outputs": [
    {
     "name": "stdout",
     "output_type": "stream",
     "text": [
      "file1.txt 在列表中的索引是: 0\n"
     ]
    }
   ],
   "source": [
    "# 假设parent_dir_contents是一个包含文件名的列表\n",
    "parent_dir_contents = [\"file1.txt\", \"file2.txt\", \"file3.txt\"]\n",
    "filename = \"file1.txt\"\n",
    "\n",
    "try:\n",
    "    # 尝试获取filename在parent_dir_contents列表中的索引\n",
    "    index = parent_dir_contents.index(filename)\n",
    "    print(f\"{filename} 在列表中的索引是: {index}\")\n",
    "except ValueError:\n",
    "    # 如果filename不在列表中，捕获ValueError异常并打印提示信息\n",
    "    print(f\"{filename} 不在列表中\")\n"
   ]
  },
  {
   "cell_type": "code",
   "execution_count": 20,
   "id": "54bdb08c",
   "metadata": {},
   "outputs": [
    {
     "name": "stdout",
     "output_type": "stream",
     "text": [
      "d:\\yangkeyin\\datasets\\251010清华数据分析\\utils\\rhd_event_extractor.py\n",
      "['d:\\\\appinstall\\\\anaconda\\\\envs\\\\neurosort\\\\python39.zip', 'd:\\\\appinstall\\\\anaconda\\\\envs\\\\neurosort\\\\DLLs', 'd:\\\\appinstall\\\\anaconda\\\\envs\\\\neurosort\\\\lib', 'd:\\\\appinstall\\\\anaconda\\\\envs\\\\neurosort', '', 'd:\\\\appinstall\\\\anaconda\\\\envs\\\\neurosort\\\\lib\\\\site-packages', 'd:\\\\appinstall\\\\anaconda\\\\envs\\\\neurosort\\\\lib\\\\site-packages\\\\win32', 'd:\\\\appinstall\\\\anaconda\\\\envs\\\\neurosort\\\\lib\\\\site-packages\\\\win32\\\\lib', 'd:\\\\appinstall\\\\anaconda\\\\envs\\\\neurosort\\\\lib\\\\site-packages\\\\Pythonwin', 'd:\\\\yangkeyin\\\\datasets', 'd:\\\\yangkeyin\\\\datasets', 'd:\\\\yangkeyin\\\\datasets\\\\251010清华数据分析', 'd:\\\\yangkeyin\\\\datasets\\\\251010清华数据分析']\n"
     ]
    }
   ],
   "source": [
    "import os\n",
    "import sys\n",
    "\n",
    "# 将当前文件的上级目录的上级目录添加到系统路径中\n",
    "sys.path.append(os.path.dirname(os.path.dirname(os.path.abspath('utils/rhd_event_extractor.py'))))\n",
    "\n",
    "print(os.path.abspath('utils/rhd_event_extractor.py'))\n",
    "\n",
    "# 展现当前系统路径\n",
    "print(sys.path)"
   ]
  },
  {
   "cell_type": "code",
   "execution_count": 21,
   "id": "19ad0933",
   "metadata": {},
   "outputs": [
    {
     "name": "stdout",
     "output_type": "stream",
     "text": [
      "[1 2 3 4 5 6]\n"
     ]
    }
   ],
   "source": [
    "import numpy as np\n",
    "\n",
    "# 假设 all_digital_data 是一个包含多个数字数组的列表\n",
    "# 示例 all_digital_data\n",
    "all_digital_data = [np.array([1, 2, 3]), np.array([4, 5, 6])]\n",
    "\n",
    "concatenated_digital = np.concatenate(all_digital_data)\n",
    "print(concatenated_digital)"
   ]
  },
  {
   "cell_type": "code",
   "execution_count": 25,
   "id": "2dac2c60",
   "metadata": {},
   "outputs": [
    {
     "name": "stdout",
     "output_type": "stream",
     "text": [
      "[ 1  0 -1  1]\n",
      "[0 3]\n"
     ]
    }
   ],
   "source": [
    "import numpy as np\n",
    "\n",
    "# 假设已经有一个名为diff的numpy数组\n",
    "# 例如\n",
    "diff = np.array([0, 1, 1, 0, 1])\n",
    "diff = np.diff(diff.astype(int))\n",
    "print(diff)\n",
    "\n",
    "# 使用np.where函数找出diff中值为1的元素的索引\n",
    "indices = np.where(diff == 1)[0]\n",
    "\n",
    "print(indices)"
   ]
  }
 ],
 "metadata": {
  "kernelspec": {
   "display_name": "neurosort",
   "language": "python",
   "name": "python3"
  },
  "language_info": {
   "codemirror_mode": {
    "name": "ipython",
    "version": 3
   },
   "file_extension": ".py",
   "mimetype": "text/x-python",
   "name": "python",
   "nbconvert_exporter": "python",
   "pygments_lexer": "ipython3",
   "version": "3.9.23"
  }
 },
 "nbformat": 4,
 "nbformat_minor": 5
}
