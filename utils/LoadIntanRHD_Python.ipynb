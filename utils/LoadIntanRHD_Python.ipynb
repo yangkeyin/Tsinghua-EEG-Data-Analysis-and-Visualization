{
 "cells": [
  {
   "cell_type": "markdown",
   "id": "8d0f8a3b",
   "metadata": {},
   "source": [
    "# Load Data from an Intan RHD file.\n",
    "### Header information (and saved data, if present) will be stored in the *result* variable. You'll also be able to specify a channel's name to plot its recorded data as an example of accessing data from *result*."
   ]
  },
  {
   "cell_type": "code",
   "execution_count": 1,
   "id": "256cb8d8",
   "metadata": {},
   "outputs": [],
   "source": [
    "# Load the background Python functions that allow for data loading and plotting\n",
    "%run importrhdutilities.py"
   ]
  },
  {
   "cell_type": "markdown",
   "id": "028df8fc",
   "metadata": {},
   "source": [
    "### Name of file to load. To load a different file, move it to the same directory as this notebook, and change the following 'filename' variable to point the name of your file."
   ]
  },
  {
   "cell_type": "code",
   "execution_count": 2,
   "id": "880246c0",
   "metadata": {
    "scrolled": true
   },
   "outputs": [
    {
     "name": "stdout",
     "output_type": "stream",
     "text": [
      "\n",
      "Reading Intan Technologies RHD Data File, Version 3.2\n",
      "\n",
      "Found 32 amplifier channels.\n",
      "Found 3 auxiliary input channels.\n",
      "Found 0 supply voltage channels.\n",
      "Found 0 board ADC channels.\n",
      "Found 1 board digital input channel.\n",
      "Found 0 board digital output channels.\n",
      "Found 0 temperature sensors channels.\n",
      "\n",
      "File contains 59.475 seconds of data.  Amplifiers were sampled at 20.00 kS/s.\n",
      "\n",
      "Allocating memory for data...\n",
      "Reading data from file...\n",
      "10% done...\n",
      "20% done...\n",
      "30% done...\n",
      "40% done...\n",
      "50% done...\n",
      "60% done...\n",
      "70% done...\n",
      "80% done...\n",
      "90% done...\n",
      "Parsing data...\n",
      "No missing timestamps in data.\n",
      "Done!  Elapsed time: 0.8 seconds\n",
      "1189504\n",
      "1189504\n"
     ]
    }
   ],
   "source": [
    "filename = r'd:\\yangkeyin\\datasets\\251010清华数据分析\\acute\\20250701\\visiual\\visiual1_250701_163557\\visiual1_250701_165057.rhd' # Change this variable to load a different data file\n",
    "result, data_present = load_file(filename)\n",
    "result_board_dig_in_data = [item for sublist in result['board_dig_in_data'] for item  in sublist]\n",
    "print(len(result_board_dig_in_data))\n",
    "sumTrue = sum(1 for item in result_board_dig_in_data if item)\n",
    "print(sumTrue)"
   ]
  },
  {
   "cell_type": "markdown",
   "id": "db4728ed",
   "metadata": {},
   "source": [
    "### Once a file is loaded, all of its information is stored in the *result* variable. If further analysis of recorded data is desired, this is the variable that should be used."
   ]
  },
  {
   "cell_type": "code",
   "execution_count": null,
   "id": "2c0cfab5",
   "metadata": {},
   "outputs": [],
   "source": [
    "#print_all_channel_names(result) # Uncomment this line and re-run cell to display names of all available channels"
   ]
  },
  {
   "cell_type": "code",
   "execution_count": null,
   "id": "5ecdcea1",
   "metadata": {
    "scrolled": true
   },
   "outputs": [],
   "source": [
    "channel_name = 'A-007' # Change this variable and re-run cell to plot a different channel\n",
    "\n",
    "%matplotlib inline\n",
    "\n",
    "if data_present:\n",
    "    plot_channel(channel_name, result)\n",
    "    \n",
    "else:\n",
    "    print('Plotting not possible; no data in this file')"
   ]
  }
 ],
 "metadata": {
  "kernelspec": {
   "display_name": "neurosort",
   "language": "python",
   "name": "python3"
  },
  "language_info": {
   "codemirror_mode": {
    "name": "ipython",
    "version": 3
   },
   "file_extension": ".py",
   "mimetype": "text/x-python",
   "name": "python",
   "nbconvert_exporter": "python",
   "pygments_lexer": "ipython3",
   "version": "3.9.23"
  }
 },
 "nbformat": 4,
 "nbformat_minor": 5
}
